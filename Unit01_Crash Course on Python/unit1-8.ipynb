{
 "cells": [
  {
   "cell_type": "code",
   "execution_count": 2,
   "id": "2852bd46",
   "metadata": {},
   "outputs": [
    {
     "name": "stdout",
     "output_type": "stream",
     "text": [
      "2\n",
      "['f1', 'f2']\n",
      "Enter\n",
      "['f2', 'folder1']\n",
      "Enter\n",
      "['f2']\n",
      "Enter\n"
     ]
    }
   ],
   "source": [
    "#建立資料夾 輸入n建立多個資料夾 \n",
    "#並改名資料夾\n",
    "#最後移除資料夾\n",
    "import os\n",
    "import shutil\n",
    "if os.path.exists('files'):\n",
    "    shutil.rmtree('files')\n",
    "os.mkdir('files')\n",
    "n=int(input())\n",
    "\n",
    "os.chdir('files')\n",
    "for i in range(1,n+1):\n",
    "    os.mkdir('f'+str(i))\n",
    "print(sorted(os.listdir()))\n",
    "a = input('Enter')\n",
    "os.rename('f1','folder1')\n",
    "print(sorted(os.listdir()))\n",
    "a = input('Enter')\n",
    "\n",
    "os.rmdir('folder1')\n",
    "print(sorted(os.listdir()))\n",
    "a = input('Enter')\n",
    "\n",
    "os.chdir('../')\n",
    "shutil.rmtree('files')"
   ]
  },
  {
   "cell_type": "code",
   "execution_count": null,
   "id": "fcd81a1c",
   "metadata": {},
   "outputs": [],
   "source": []
  },
  {
   "cell_type": "code",
   "execution_count": null,
   "id": "6f499eda",
   "metadata": {},
   "outputs": [],
   "source": []
  }
 ],
 "metadata": {
  "kernelspec": {
   "display_name": "Python 3 (ipykernel)",
   "language": "python",
   "name": "python3"
  },
  "language_info": {
   "codemirror_mode": {
    "name": "ipython",
    "version": 3
   },
   "file_extension": ".py",
   "mimetype": "text/x-python",
   "name": "python",
   "nbconvert_exporter": "python",
   "pygments_lexer": "ipython3",
   "version": "3.11.5"
  }
 },
 "nbformat": 4,
 "nbformat_minor": 5
}
