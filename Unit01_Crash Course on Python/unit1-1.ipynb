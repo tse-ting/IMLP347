{
 "cells": [
  {
   "cell_type": "code",
   "execution_count": 2,
   "id": "0b68bcf0",
   "metadata": {},
   "outputs": [
    {
     "name": "stdout",
     "output_type": "stream",
     "text": [
      "521\n",
      "他是奇數\n"
     ]
    }
   ],
   "source": [
    "#樹入一個數字，判斷為奇偶數\n",
    "num = int(input())\n",
    "if num > 1 and num<=1000:\n",
    "    if num % 2 == 0:\n",
    "        print(\"他是偶數\")\n",
    "    else:\n",
    "        print(\"他是奇數\")\n",
    "else:\n",
    "    print(\"超出範圍\")"
   ]
  },
  {
   "cell_type": "code",
   "execution_count": null,
   "id": "95e13f46",
   "metadata": {},
   "outputs": [],
   "source": [
    "2000"
   ]
  },
  {
   "cell_type": "code",
   "execution_count": null,
   "id": "e9ff865c",
   "metadata": {},
   "outputs": [],
   "source": []
  },
  {
   "cell_type": "code",
   "execution_count": null,
   "id": "fca0b9ed",
   "metadata": {},
   "outputs": [],
   "source": []
  },
  {
   "cell_type": "code",
   "execution_count": null,
   "id": "589e65f6",
   "metadata": {},
   "outputs": [],
   "source": [
    "200\n"
   ]
  },
  {
   "cell_type": "code",
   "execution_count": null,
   "id": "c51d2d5e",
   "metadata": {},
   "outputs": [],
   "source": []
  },
  {
   "cell_type": "code",
   "execution_count": null,
   "id": "21cbb31f",
   "metadata": {},
   "outputs": [],
   "source": [
    "2000"
   ]
  },
  {
   "cell_type": "code",
   "execution_count": null,
   "id": "ac534494",
   "metadata": {},
   "outputs": [],
   "source": []
  },
  {
   "cell_type": "code",
   "execution_count": null,
   "id": "a76b6773",
   "metadata": {},
   "outputs": [],
   "source": []
  },
  {
   "cell_type": "code",
   "execution_count": null,
   "id": "b765a042",
   "metadata": {},
   "outputs": [],
   "source": [
    "5000"
   ]
  },
  {
   "cell_type": "code",
   "execution_count": null,
   "id": "e460dadf",
   "metadata": {},
   "outputs": [],
   "source": []
  }
 ],
 "metadata": {
  "kernelspec": {
   "display_name": "Python 3 (ipykernel)",
   "language": "python",
   "name": "python3"
  },
  "language_info": {
   "codemirror_mode": {
    "name": "ipython",
    "version": 3
   },
   "file_extension": ".py",
   "mimetype": "text/x-python",
   "name": "python",
   "nbconvert_exporter": "python",
   "pygments_lexer": "ipython3",
   "version": "3.11.5"
  }
 },
 "nbformat": 4,
 "nbformat_minor": 5
}
