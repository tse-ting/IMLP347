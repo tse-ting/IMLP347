{
 "cells": [
  {
   "cell_type": "code",
   "execution_count": 3,
   "id": "cbb0cf35",
   "metadata": {},
   "outputs": [
    {
     "name": "stdout",
     "output_type": "stream",
     "text": [
      "what is your email address??: as6987a@yahoo.com.tw\n",
      "Your user name is 'as6987a' and your domain name is 'yahoo.com.tw'\n",
      "這是註冊在'yahoo.com.tw'之下的email地址\n"
     ]
    }
   ],
   "source": [
    "# 輸入email\n",
    "email = input(\"what is your email address??: \").strip()\n",
    "#找到小老鼠位置，用[]做特定位置擷取\n",
    "user_name = email[0:email.index('@')]\n",
    "#找到mail網址 \n",
    "domain_name =email[email.index('@')+1:len(email)]\n",
    "#輸出email\n",
    "output = \"Your user name is '{}' and your domain name is '{}'\".format(user_name,domain_name)\n",
    "print(output)\n",
    "domain = {'gmail.com':'Google','yahoo.com.tw':'YAHOO','ntu.edu.tw':'台大','hotmail.com.tw':'Hotmail'}\n",
    "if domain_name in domain:\n",
    "    output = \"這是註冊在'{}'之下的email地址\".format(domain_name)\n",
    "else:\n",
    "    output = \"這是註冊在'{}'之下的自訂義域\".format(domain_name)\n",
    "print(output)"
   ]
  },
  {
   "cell_type": "code",
   "execution_count": null,
   "id": "b65f2ad8",
   "metadata": {},
   "outputs": [],
   "source": []
  }
 ],
 "metadata": {
  "kernelspec": {
   "display_name": "Python 3 (ipykernel)",
   "language": "python",
   "name": "python3"
  },
  "language_info": {
   "codemirror_mode": {
    "name": "ipython",
    "version": 3
   },
   "file_extension": ".py",
   "mimetype": "text/x-python",
   "name": "python",
   "nbconvert_exporter": "python",
   "pygments_lexer": "ipython3",
   "version": "3.11.5"
  }
 },
 "nbformat": 4,
 "nbformat_minor": 5
}
