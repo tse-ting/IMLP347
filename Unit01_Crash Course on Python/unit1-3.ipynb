{
 "cells": [
  {
   "cell_type": "code",
   "execution_count": null,
   "id": "b188c74d",
   "metadata": {},
   "outputs": [],
   "source": [
    "#猜數字遊戲\n",
    "import random\n",
    "\n",
    "a = 0\n",
    "b= 1\n",
    "ans = random.randint(1, 100)\n",
    "Max = 100\n",
    "Min = 0\n",
    "cho = 0\n",
    "\n",
    "while a <= 3: \n",
    "    print(\"請猜\", Min, \"~\", Max, \"之間的數字，這是第\",b,\"次猜\")\n",
    "    guess = int(input())  # Convert input to an integer\n",
    "    if Max>guess and Min<guess:\n",
    "        a = a+1\n",
    "        b = b+1\n",
    "        if guess == ans:\n",
    "            print(\"你猜對了!!\")\n",
    "            break  # Break out of the loop if the guess is correct\n",
    "        elif guess > ans:\n",
    "            Max = guess\n",
    "        elif guess < ans:\n",
    "            Min = guess\n",
    "        if a >= 3:\n",
    "            print(\"要繼續玩嗎?，要請輸入Y，不要請輸入N\")\n",
    "            cho = str(input())\n",
    "            if(cho=='Y'):\n",
    "                a= 0\n",
    "            elif(cho=='N'):\n",
    "                print(\"答案為\",ans,)\n",
    "                break\n",
    "    else:\n",
    "        print(\"輸入錯誤，請重新輸入\")\n",
    "    "
   ]
  }
 ],
 "metadata": {
  "kernelspec": {
   "display_name": "Python 3 (ipykernel)",
   "language": "python",
   "name": "python3"
  },
  "language_info": {
   "codemirror_mode": {
    "name": "ipython",
    "version": 3
   },
   "file_extension": ".py",
   "mimetype": "text/x-python",
   "name": "python",
   "nbconvert_exporter": "python",
   "pygments_lexer": "ipython3",
   "version": "3.11.4"
  }
 },
 "nbformat": 4,
 "nbformat_minor": 5
}
