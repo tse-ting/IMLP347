{
 "cells": [
  {
   "cell_type": "markdown",
   "metadata": {},
   "source": [
    "## Entropy"
   ]
  },
  {
   "cell_type": "code",
   "execution_count": 1,
   "metadata": {},
   "outputs": [],
   "source": [
    "import numpy as np \n",
    "from math import log\n",
    "import matplotlib\n",
    "import matplotlib.pyplot as plt\n",
    "%matplotlib inline"
   ]
  },
  {
   "cell_type": "code",
   "execution_count": 2,
   "metadata": {},
   "outputs": [],
   "source": [
    "#only 2 class\n",
    "def E(a,b):\n",
    "    if a == 0 or b ==0: #有一個是0，另一個必定是\n",
    "0        return 0\n",
    "    probs_a = a / (a+b)\n",
    "    probs_b = b / (a+b)\n",
    "    #Compute entropy\n",
    "    ent = -(probs_a * log(probs_a,2) + probs_b * log(probs_b,2))\n",
    "    \n",
    "    return ent\n"
   ]
  },
  {
   "cell_type": "code",
   "execution_count": 3,
   "metadata": {},
   "outputs": [
    {
     "data": {
      "text/plain": [
       "0.9402859586706309"
      ]
     },
     "execution_count": 3,
     "metadata": {},
     "output_type": "execute_result"
    }
   ],
   "source": [
    "S=E(9,5)\n",
    "S"
   ]
  },
  {
   "cell_type": "markdown",
   "metadata": {},
   "source": [
    "### Outlook Gain"
   ]
  },
  {
   "cell_type": "code",
   "execution_count": 9,
   "metadata": {
    "scrolled": true
   },
   "outputs": [
    {
     "data": {
      "text/plain": [
       "0.2467498197744391"
      ]
     },
     "execution_count": 9,
     "metadata": {},
     "output_type": "execute_result"
    }
   ],
   "source": [
    "S-(5/14*E(3,2)+4/14*E(4,0)+5/14*E(2,3)) #所有因素結果是yes的情況(E)，分數為所有情況下符合當種情況的可能"
   ]
  },
  {
   "cell_type": "markdown",
   "metadata": {},
   "source": [
    "### Temp Gain"
   ]
  },
  {
   "cell_type": "code",
   "execution_count": 10,
   "metadata": {},
   "outputs": [
    {
     "data": {
      "text/plain": [
       "0.029222565658954647"
      ]
     },
     "execution_count": 10,
     "metadata": {},
     "output_type": "execute_result"
    }
   ],
   "source": [
    "S-(4/14*E(2,2)+6/14*E(4,2)+4/14*E(3,1)) #E(yes,no)->單一種元素分析"
   ]
  },
  {
   "cell_type": "markdown",
   "metadata": {},
   "source": [
    "### HumilityGain"
   ]
  },
  {
   "cell_type": "code",
   "execution_count": 11,
   "metadata": {},
   "outputs": [
    {
     "data": {
      "text/plain": [
       "0.15183550136234136"
      ]
     },
     "execution_count": 11,
     "metadata": {},
     "output_type": "execute_result"
    }
   ],
   "source": [
    "S- (7/14*E(3,4)+7/14*E(6,1))"
   ]
  },
  {
   "cell_type": "markdown",
   "metadata": {},
   "source": [
    "### Windy Gain"
   ]
  },
  {
   "cell_type": "code",
   "execution_count": 12,
   "metadata": {},
   "outputs": [
    {
     "data": {
      "text/plain": [
       "0.04812703040826927"
      ]
     },
     "execution_count": 12,
     "metadata": {},
     "output_type": "execute_result"
    }
   ],
   "source": [
    "S-(8/14*E(6,2)+6/14*E(3,3))"
   ]
  },
  {
   "attachments": {},
   "cell_type": "markdown",
   "metadata": {},
   "source": [
    "## Exercise :\n",
    "    Outlook= rain \n",
    "    試著計算Temp, Humidity, Windy 的Information Gain 並畫出在Rainy下的樹狀結構\n",
    " \n",
    "    \n",
    "   ![image.png](attachment:image.png)"
   ]
  },
  {
   "cell_type": "code",
   "execution_count": 13,
   "metadata": {
    "scrolled": true
   },
   "outputs": [
    {
     "data": {
      "text/plain": [
       "0.9709505944546686"
      ]
     },
     "execution_count": 13,
     "metadata": {},
     "output_type": "execute_result"
    }
   ],
   "source": [
    "E(3,2)"
   ]
  },
  {
   "cell_type": "code",
   "execution_count": 11,
   "metadata": {
    "scrolled": true
   },
   "outputs": [
    {
     "data": {
      "text/plain": [
       "0.5709505944546686"
      ]
     },
     "execution_count": 11,
     "metadata": {},
     "output_type": "execute_result"
    }
   ],
   "source": [
    "# temp gain\n",
    "E(3,2) - (2/5*E(2,0)+2/5*E(1,1)+1/5*E(1,0))"
   ]
  },
  {
   "cell_type": "code",
   "execution_count": 15,
   "metadata": {},
   "outputs": [
    {
     "data": {
      "text/plain": [
       "0.9709505944546686"
      ]
     },
     "execution_count": 15,
     "metadata": {},
     "output_type": "execute_result"
    }
   ],
   "source": [
    "# humility gain\n",
    "E(3,2) - (3/5*E(3,0)+2/5*E(2,0))"
   ]
  },
  {
   "cell_type": "code",
   "execution_count": 13,
   "metadata": {
    "scrolled": true
   },
   "outputs": [
    {
     "data": {
      "text/plain": [
       "0.01997309402197489"
      ]
     },
     "execution_count": 13,
     "metadata": {},
     "output_type": "execute_result"
    }
   ],
   "source": [
    "# windy gain\n",
    "E(3,2) - (3/5*E(2,1)+2/5*E(1,1))"
   ]
  },
  {
   "cell_type": "code",
   "execution_count": 4,
   "metadata": {},
   "outputs": [
    {
     "name": "stdout",
     "output_type": "stream",
     "text": [
      "['yes'] [3]\n",
      "0.0\n",
      "['no' 'yes'] [2 2]\n",
      "1.0\n",
      "['high' 'low' 'normal'] [3 2 3]\n",
      "1.5612781244591325\n",
      "['high' 'normal'] [5 3]\n",
      "0.9544340029249649\n"
     ]
    }
   ],
   "source": [
    "def entropy(labels):\n",
    "    n_labels = len(labels)\n",
    "\n",
    "    if n_labels <= 1:\n",
    "        return 0\n",
    "\n",
    "    value,counts = np.unique(labels, return_counts=True) #unique計算此元素出現的次數\n",
    "    print(value,counts)\n",
    "    probs = counts / n_labels\n",
    "\n",
    "    ent = 0.\n",
    "    # Compute entropy\n",
    "    for i in probs:\n",
    "        ent -= i * log(i,2)\n",
    "\n",
    "    return ent\n",
    "\n",
    "\n",
    "labels=['yes','yes','yes']\n",
    "print(entropy(labels))\n",
    "\n",
    "labels=['yes','no','yes','no']\n",
    "print(entropy(labels))\n",
    "\n",
    "labels=['high','low','high','high','low','normal','normal','normal']\n",
    "print(entropy(labels))\n",
    "\n",
    "labels=['high','high','high','high','high','normal','normal','normal']\n",
    "print(entropy(labels))"
   ]
  },
  {
   "cell_type": "markdown",
   "metadata": {},
   "source": [
    "## ans\n",
    "['yes'] [3] <br>\n",
    "0.0<br>\n",
    "['no' 'yes'] [2 2]<br>\n",
    "1.0<br>\n",
    "['high' 'low' 'normal'] [3 2 3]<br>\n",
    "1.5612781244591325<br>\n",
    "['high' 'normal'] [5 3]<br>\n",
    "0.9544340029249649<br>\n"
   ]
  },
  {
   "cell_type": "code",
   "execution_count": 5,
   "metadata": {},
   "outputs": [],
   "source": [
    "from scipy.stats import entropy"
   ]
  },
  {
   "cell_type": "code",
   "execution_count": 6,
   "metadata": {},
   "outputs": [
    {
     "data": {
      "text/plain": [
       "1.0"
      ]
     },
     "execution_count": 6,
     "metadata": {},
     "output_type": "execute_result"
    }
   ],
   "source": [
    "entropy([1/2, 1/2], base=2)"
   ]
  },
  {
   "cell_type": "code",
   "execution_count": 7,
   "metadata": {},
   "outputs": [
    {
     "data": {
      "text/plain": [
       "0.954434002924965"
      ]
     },
     "execution_count": 7,
     "metadata": {},
     "output_type": "execute_result"
    }
   ],
   "source": [
    "entropy([5/8, 3/8], base=2)"
   ]
  },
  {
   "cell_type": "code",
   "execution_count": 8,
   "metadata": {},
   "outputs": [
    {
     "data": {
      "text/plain": [
       "0.57"
      ]
     },
     "execution_count": 8,
     "metadata": {},
     "output_type": "execute_result"
    }
   ],
   "source": [
    "0.97 - (2/5*entropy([2,0], base=2)+2/5*entropy([1,1], base=2)+1/5*entropy([1,0], base=2))\n"
   ]
  }
 ],
 "metadata": {
  "kernelspec": {
   "display_name": "Python 3 (ipykernel)",
   "language": "python",
   "name": "python3"
  },
  "language_info": {
   "codemirror_mode": {
    "name": "ipython",
    "version": 3
   },
   "file_extension": ".py",
   "mimetype": "text/x-python",
   "name": "python",
   "nbconvert_exporter": "python",
   "pygments_lexer": "ipython3",
   "version": "3.11.5"
  }
 },
 "nbformat": 4,
 "nbformat_minor": 2
}
