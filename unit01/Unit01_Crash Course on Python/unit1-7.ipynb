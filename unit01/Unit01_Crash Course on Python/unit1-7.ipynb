{
 "cells": [
  {
   "cell_type": "code",
   "execution_count": 7,
   "id": "4f9f2a91",
   "metadata": {},
   "outputs": [
    {
     "name": "stdout",
     "output_type": "stream",
     "text": [
      "C:\\Users\\user\\Desktop\\Unit01\\testfile\n",
      "['file1', 'file2', 'hw_07945001.txt', 'hw_079450010.doc', 'hw_07945002.txt', 'hw_07945003.txt', 'hw_07945004.txt', 'hw_07945005.txt', 'hw_07945007.txt', 'hw_07945008.txt', 'hw_07945009.txt']\n",
      "I'm a directory file1\n",
      "I'm a directory file2\n",
      "I'm a File hw_07945001.txt\n",
      "I'm a File hw_07945002.txt\n",
      "I'm a File hw_07945003.txt\n",
      "I'm a File hw_07945004.txt\n",
      "I'm a File hw_07945005.txt\n",
      "I'm a File hw_07945007.txt\n",
      "I'm a File hw_07945008.txt\n",
      "I'm a File hw_07945009.txt\n",
      "['07945001', '07945002', '07945003', '07945004', '07945005', '07945007', '07945008', '07945009']\n"
     ]
    }
   ],
   "source": [
    "import os\n",
    "\n",
    "# 輸入路徑\n",
    "yourPath = input()\n",
    "# output陣列\n",
    "allFileList = os.listdir(yourPath)\n",
    "ID = []\n",
    "print(allFileList)\n",
    "\n",
    "# 逐一走訪\n",
    "for file in allFileList:\n",
    "    # 用join方式將檔案路徑接起來\n",
    "    if os.path.isdir(os.path.join(yourPath, file)):\n",
    "        print(\"I'm a directory \" + file)\n",
    "    elif os.path.isfile(os.path.join(yourPath, file)):\n",
    "        if not file.endswith('.doc'):\n",
    "            print(\"I'm a File \" + file)\n",
    "            ID.append(file[file.index('_')+1:file.index('.')])\n",
    "\n",
    "print(ID)\n"
   ]
  },
  {
   "cell_type": "code",
   "execution_count": null,
   "id": "3963511c",
   "metadata": {},
   "outputs": [],
   "source": []
  }
 ],
 "metadata": {
  "kernelspec": {
   "display_name": "Python 3 (ipykernel)",
   "language": "python",
   "name": "python3"
  },
  "language_info": {
   "codemirror_mode": {
    "name": "ipython",
    "version": 3
   },
   "file_extension": ".py",
   "mimetype": "text/x-python",
   "name": "python",
   "nbconvert_exporter": "python",
   "pygments_lexer": "ipython3",
   "version": "3.11.5"
  }
 },
 "nbformat": 4,
 "nbformat_minor": 5
}
