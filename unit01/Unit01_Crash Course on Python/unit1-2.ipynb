{
 "cells": [
  {
   "cell_type": "code",
   "execution_count": null,
   "id": "aa554844",
   "metadata": {},
   "outputs": [
    {
     "name": "stdout",
     "output_type": "stream",
     "text": [
      "請輸入課程期數: 123\n",
      "請輸入課程名稱: python\n",
      "請輸入姓名: 無\n",
      "請輸入科系或職業: esoe\n",
      "你想從本課程學到甚麼: ml\n",
      "----------------------------------------------------------------------\n",
      "第123期 - python \n",
      "姓名: 無\n",
      "學生背景: esoe\n",
      "-----------------------------結訓證明------------------------------------\n",
      "恭喜 無 結業獲得[ python ]後，\n",
      "結業成果獲得: ml .\n",
      "well done\n",
      "----------------------------------------------------------------------\n",
      "如果要繼續請輸入1，否則輸入其他任意字元結束: 1\n"
     ]
    }
   ],
   "source": [
    "while True:\n",
    "    semester = input(\"請輸入課程期數: \")\n",
    "    course = input(\"請輸入課程名稱: \")\n",
    "    name = input(\"請輸入姓名: \")\n",
    "    background = input(\"請輸入科系或職業: \")\n",
    "    expectation = input(\"你想從本課程學到甚麼: \")\n",
    "\n",
    "    print(\"----------------------------------------------------------------------\")\n",
    "    print(\"第%s期 - %s \" % (semester, course))\n",
    "    print(\"姓名:\", name)\n",
    "    print(\"學生背景:\", background)\n",
    "    print(\"-----------------------------結訓證明------------------------------------\")\n",
    "    print('恭喜', name, \"結業獲得[\", course, ']後，')\n",
    "    print(\"結業成果獲得:\", expectation, \".\")\n",
    "    print(\"well done\")\n",
    "    print(\"----------------------------------------------------------------------\")\n",
    "\n",
    "    user_input = input(\"如果要繼續請輸入1，否則輸入其他任意字元結束: \")\n",
    "    if user_input != '1':\n",
    "        break"
   ]
  },
  {
   "cell_type": "code",
   "execution_count": null,
   "id": "c0f35e52",
   "metadata": {},
   "outputs": [],
   "source": []
  },
  {
   "cell_type": "code",
   "execution_count": null,
   "id": "4e05e087",
   "metadata": {},
   "outputs": [],
   "source": []
  }
 ],
 "metadata": {
  "kernelspec": {
   "display_name": "Python 3 (ipykernel)",
   "language": "python",
   "name": "python3"
  },
  "language_info": {
   "codemirror_mode": {
    "name": "ipython",
    "version": 3
   },
   "file_extension": ".py",
   "mimetype": "text/x-python",
   "name": "python",
   "nbconvert_exporter": "python",
   "pygments_lexer": "ipython3",
   "version": "3.11.5"
  }
 },
 "nbformat": 4,
 "nbformat_minor": 5
}
