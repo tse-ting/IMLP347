{
 "cells": [
  {
   "cell_type": "code",
   "execution_count": 3,
   "id": "1f95bf6b",
   "metadata": {},
   "outputs": [
    {
     "name": "stdout",
     "output_type": "stream",
     "text": [
      "兩個都及格的: ['柯南', '步美', '灰原']\n",
      "數學不及格，英文及格: ['光彥', '美環']\n",
      "英文不及格，數學及格: ['丸尾', '野口']\n"
     ]
    }
   ],
   "source": [
    "# 集合以{}表示\n",
    "m = {'柯南', '灰原', '步美', '美環', '光彥'}\n",
    "e = {'柯南', '灰原', '丸尾', '野口', '步美'}\n",
    "\n",
    "# set 沒有順序性\n",
    "a = m.intersection(e)\n",
    "a1 = list(a)\n",
    "# 排序a1\n",
    "a1.sort()\n",
    "print(\"兩個都及格的: {}\".format(a1))\n",
    "\n",
    "b = m.difference(e)\n",
    "b1 = list(b)\n",
    "# 排序b1\n",
    "b1.sort()\n",
    "print(\"數學不及格，英文及格: {}\".format(b1))\n",
    "\n",
    "c = e.difference(a)\n",
    "c1 = list(c)\n",
    "# 排序c1\n",
    "c1.sort()\n",
    "print(\"英文不及格，數學及格: {}\".format(c1))\n",
    "full = m.union(e)\n",
    "d1 = list(full)\n",
    "c1.sort\n",
    "print(d1)"
   ]
  },
  {
   "cell_type": "code",
   "execution_count": null,
   "id": "626b9799",
   "metadata": {},
   "outputs": [],
   "source": []
  }
 ],
 "metadata": {
  "kernelspec": {
   "display_name": "Python 3 (ipykernel)",
   "language": "python",
   "name": "python3"
  },
  "language_info": {
   "codemirror_mode": {
    "name": "ipython",
    "version": 3
   },
   "file_extension": ".py",
   "mimetype": "text/x-python",
   "name": "python",
   "nbconvert_exporter": "python",
   "pygments_lexer": "ipython3",
   "version": "3.11.5"
  }
 },
 "nbformat": 4,
 "nbformat_minor": 5
}
